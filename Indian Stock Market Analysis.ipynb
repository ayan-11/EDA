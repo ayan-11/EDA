{
 "cells": [
  {
   "cell_type": "code",
   "execution_count": 1,
   "id": "656f7a8b",
   "metadata": {
    "_cell_guid": "b1076dfc-b9ad-4769-8c92-a6c4dae69d19",
    "_uuid": "8f2839f25d086af736a60e9eeb907d3b93b6e0e5",
    "execution": {
     "iopub.execute_input": "2024-02-14T11:18:01.737073Z",
     "iopub.status.busy": "2024-02-14T11:18:01.736707Z",
     "iopub.status.idle": "2024-02-14T11:18:02.676919Z",
     "shell.execute_reply": "2024-02-14T11:18:02.675620Z"
    },
    "papermill": {
     "duration": 0.95251,
     "end_time": "2024-02-14T11:18:02.680484",
     "exception": false,
     "start_time": "2024-02-14T11:18:01.727974",
     "status": "completed"
    },
    "tags": []
   },
   "outputs": [
    {
     "name": "stdout",
     "output_type": "stream",
     "text": [
      "/kaggle/input/indian-stock-data-from-moneycontrol/stock_data_0.json\n"
     ]
    }
   ],
   "source": [
    "# This Python 3 environment comes with many helpful analytics libraries installed\n",
    "# It is defined by the kaggle/python Docker image: https://github.com/kaggle/docker-python\n",
    "# For example, here's several helpful packages to load\n",
    "\n",
    "import numpy as np # linear algebra\n",
    "import pandas as pd # data processing, CSV file I/O (e.g. pd.read_csv)\n",
    "\n",
    "# Input data files are available in the read-only \"../input/\" directory\n",
    "# For example, running this (by clicking run or pressing Shift+Enter) will list all files under the input directory\n",
    "\n",
    "import os\n",
    "for dirname, _, filenames in os.walk('/kaggle/input'):\n",
    "    for filename in filenames:\n",
    "        print(os.path.join(dirname, filename))\n",
    "\n",
    "# You can write up to 20GB to the current directory (/kaggle/working/) that gets preserved as output when you create a version using \"Save & Run All\" \n",
    "# You can also write temporary files to /kaggle/temp/, but they won't be saved outside of the current session"
   ]
  },
  {
   "cell_type": "code",
   "execution_count": 2,
   "id": "549d17e6",
   "metadata": {
    "execution": {
     "iopub.execute_input": "2024-02-14T11:18:02.702784Z",
     "iopub.status.busy": "2024-02-14T11:18:02.702187Z",
     "iopub.status.idle": "2024-02-14T11:18:02.864968Z",
     "shell.execute_reply": "2024-02-14T11:18:02.863759Z"
    },
    "papermill": {
     "duration": 0.176648,
     "end_time": "2024-02-14T11:18:02.867515",
     "exception": false,
     "start_time": "2024-02-14T11:18:02.690867",
     "status": "completed"
    },
    "tags": []
   },
   "outputs": [],
   "source": [
    "df=pd.read_json('/kaggle/input/indian-stock-data-from-moneycontrol/stock_data_0.json')"
   ]
  },
  {
   "cell_type": "code",
   "execution_count": 3,
   "id": "7432a349",
   "metadata": {
    "execution": {
     "iopub.execute_input": "2024-02-14T11:18:02.883285Z",
     "iopub.status.busy": "2024-02-14T11:18:02.882633Z",
     "iopub.status.idle": "2024-02-14T11:18:02.906220Z",
     "shell.execute_reply": "2024-02-14T11:18:02.905051Z"
    },
    "papermill": {
     "duration": 0.035886,
     "end_time": "2024-02-14T11:18:02.910425",
     "exception": false,
     "start_time": "2024-02-14T11:18:02.874539",
     "status": "completed"
    },
    "tags": []
   },
   "outputs": [
    {
     "data": {
      "text/html": [
       "<div>\n",
       "<style scoped>\n",
       "    .dataframe tbody tr th:only-of-type {\n",
       "        vertical-align: middle;\n",
       "    }\n",
       "\n",
       "    .dataframe tbody tr th {\n",
       "        vertical-align: top;\n",
       "    }\n",
       "\n",
       "    .dataframe thead th {\n",
       "        text-align: right;\n",
       "    }\n",
       "</style>\n",
       "<table border=\"1\" class=\"dataframe\">\n",
       "  <thead>\n",
       "    <tr style=\"text-align: right;\">\n",
       "      <th></th>\n",
       "      <th>NAME</th>\n",
       "      <th>TYPE</th>\n",
       "      <th>COST</th>\n",
       "      <th>STRENGTH</th>\n",
       "      <th>WEAKNESS</th>\n",
       "      <th>OPPORTUNITIES</th>\n",
       "      <th>THREATS</th>\n",
       "      <th>P_LOW</th>\n",
       "      <th>P_HIGH</th>\n",
       "      <th>YEARLY_LOW</th>\n",
       "      <th>YEARLY_HIGH</th>\n",
       "    </tr>\n",
       "  </thead>\n",
       "  <tbody>\n",
       "    <tr>\n",
       "      <th>0</th>\n",
       "      <td>A &amp; M Febcon Ltd.</td>\n",
       "      <td>Miscellaneous</td>\n",
       "      <td>0.95</td>\n",
       "      <td>Company with Zero Promoter Pledge</td>\n",
       "      <td>Low Piotroski Score : Companies with weak fina...</td>\n",
       "      <td>Positive Breakout First Resistance ( LTP &gt; R1)</td>\n",
       "      <td>No Threat for this stock</td>\n",
       "      <td>0.87</td>\n",
       "      <td>0.95</td>\n",
       "      <td>0.85</td>\n",
       "      <td>2.36</td>\n",
       "    </tr>\n",
       "    <tr>\n",
       "      <th>1</th>\n",
       "      <td>A F Enterprises Ltd.</td>\n",
       "      <td>Finance - Investment</td>\n",
       "      <td>5.55</td>\n",
       "      <td>Growth in Net Profit with increasing Profit Ma...</td>\n",
       "      <td>Inefficient use of shareholder funds - ROE dec...</td>\n",
       "      <td>Turnaround companies- loss to profit QoQ</td>\n",
       "      <td>No Threat for this stock</td>\n",
       "      <td>5.21</td>\n",
       "      <td>5.70</td>\n",
       "      <td>4.30</td>\n",
       "      <td>23.25</td>\n",
       "    </tr>\n",
       "    <tr>\n",
       "      <th>2</th>\n",
       "      <td>A and M Jumbo Bags Ltd.</td>\n",
       "      <td>Containers &amp; Packaging</td>\n",
       "      <td>NaN</td>\n",
       "      <td>Company with Zero Promoter Pledge</td>\n",
       "      <td>Inefficient use of capital to generate profits...</td>\n",
       "      <td>Highest Recovery from 52 Week Low</td>\n",
       "      <td>No Threat for this stock</td>\n",
       "      <td>NaN</td>\n",
       "      <td>NaN</td>\n",
       "      <td>NaN</td>\n",
       "      <td>NaN</td>\n",
       "    </tr>\n",
       "    <tr>\n",
       "      <th>3</th>\n",
       "      <td>A G Universal Ltd.</td>\n",
       "      <td>Trading</td>\n",
       "      <td>NaN</td>\n",
       "      <td>Annual Net Profits improving for last 2 years</td>\n",
       "      <td>Companies with High Debt</td>\n",
       "      <td>Highest Recovery from 52 Week Low</td>\n",
       "      <td>No Threat for this stock</td>\n",
       "      <td>0.00</td>\n",
       "      <td>0.00</td>\n",
       "      <td>32.50</td>\n",
       "      <td>119.95</td>\n",
       "    </tr>\n",
       "    <tr>\n",
       "      <th>4</th>\n",
       "      <td>A K Spintex Ltd.</td>\n",
       "      <td>Textiles &amp; Apparel</td>\n",
       "      <td>138.00</td>\n",
       "      <td>Strong Momentum: Price above short, medium and...</td>\n",
       "      <td>Decline in Net Profit with falling Profit Marg...</td>\n",
       "      <td>Stock with Low PE (PE &lt; = 10)</td>\n",
       "      <td>No Threat for this stock</td>\n",
       "      <td>131.05</td>\n",
       "      <td>138.45</td>\n",
       "      <td>72.25</td>\n",
       "      <td>162.00</td>\n",
       "    </tr>\n",
       "  </tbody>\n",
       "</table>\n",
       "</div>"
      ],
      "text/plain": [
       "                      NAME                    TYPE    COST  \\\n",
       "0        A & M Febcon Ltd.           Miscellaneous    0.95   \n",
       "1     A F Enterprises Ltd.    Finance - Investment    5.55   \n",
       "2  A and M Jumbo Bags Ltd.  Containers & Packaging     NaN   \n",
       "3       A G Universal Ltd.                 Trading     NaN   \n",
       "4         A K Spintex Ltd.      Textiles & Apparel  138.00   \n",
       "\n",
       "                                            STRENGTH  \\\n",
       "0                  Company with Zero Promoter Pledge   \n",
       "1  Growth in Net Profit with increasing Profit Ma...   \n",
       "2                  Company with Zero Promoter Pledge   \n",
       "3      Annual Net Profits improving for last 2 years   \n",
       "4  Strong Momentum: Price above short, medium and...   \n",
       "\n",
       "                                            WEAKNESS  \\\n",
       "0  Low Piotroski Score : Companies with weak fina...   \n",
       "1  Inefficient use of shareholder funds - ROE dec...   \n",
       "2  Inefficient use of capital to generate profits...   \n",
       "3                           Companies with High Debt   \n",
       "4  Decline in Net Profit with falling Profit Marg...   \n",
       "\n",
       "                                     OPPORTUNITIES                   THREATS  \\\n",
       "0  Positive Breakout First Resistance ( LTP > R1)   No Threat for this stock   \n",
       "1        Turnaround companies- loss to profit QoQ   No Threat for this stock   \n",
       "2               Highest Recovery from 52 Week Low   No Threat for this stock   \n",
       "3               Highest Recovery from 52 Week Low   No Threat for this stock   \n",
       "4                   Stock with Low PE (PE < = 10)   No Threat for this stock   \n",
       "\n",
       "    P_LOW  P_HIGH  YEARLY_LOW  YEARLY_HIGH  \n",
       "0    0.87    0.95        0.85         2.36  \n",
       "1    5.21    5.70        4.30        23.25  \n",
       "2     NaN     NaN         NaN          NaN  \n",
       "3    0.00    0.00       32.50       119.95  \n",
       "4  131.05  138.45       72.25       162.00  "
      ]
     },
     "execution_count": 3,
     "metadata": {},
     "output_type": "execute_result"
    }
   ],
   "source": [
    "df.head()"
   ]
  },
  {
   "cell_type": "code",
   "execution_count": 4,
   "id": "51561e96",
   "metadata": {
    "execution": {
     "iopub.execute_input": "2024-02-14T11:18:02.930151Z",
     "iopub.status.busy": "2024-02-14T11:18:02.929680Z",
     "iopub.status.idle": "2024-02-14T11:18:02.954671Z",
     "shell.execute_reply": "2024-02-14T11:18:02.953672Z"
    },
    "papermill": {
     "duration": 0.037548,
     "end_time": "2024-02-14T11:18:02.958476",
     "exception": false,
     "start_time": "2024-02-14T11:18:02.920928",
     "status": "completed"
    },
    "tags": []
   },
   "outputs": [
    {
     "data": {
      "text/plain": [
       "NAME                0\n",
       "TYPE             3289\n",
       "COST             4320\n",
       "STRENGTH            0\n",
       "WEAKNESS            0\n",
       "OPPORTUNITIES       0\n",
       "THREATS             0\n",
       "P_LOW            3246\n",
       "P_HIGH           3246\n",
       "YEARLY_LOW       3297\n",
       "YEARLY_HIGH      3297\n",
       "dtype: int64"
      ]
     },
     "execution_count": 4,
     "metadata": {},
     "output_type": "execute_result"
    }
   ],
   "source": [
    "df.isnull().sum()"
   ]
  },
  {
   "cell_type": "code",
   "execution_count": 5,
   "id": "4d382ecf",
   "metadata": {
    "execution": {
     "iopub.execute_input": "2024-02-14T11:18:02.981135Z",
     "iopub.status.busy": "2024-02-14T11:18:02.980612Z",
     "iopub.status.idle": "2024-02-14T11:18:03.015033Z",
     "shell.execute_reply": "2024-02-14T11:18:03.013383Z"
    },
    "papermill": {
     "duration": 0.047912,
     "end_time": "2024-02-14T11:18:03.017332",
     "exception": false,
     "start_time": "2024-02-14T11:18:02.969420",
     "status": "completed"
    },
    "tags": []
   },
   "outputs": [
    {
     "name": "stdout",
     "output_type": "stream",
     "text": [
      "<class 'pandas.core.frame.DataFrame'>\n",
      "Index: 9543 entries, 0 to 9542\n",
      "Data columns (total 11 columns):\n",
      " #   Column         Non-Null Count  Dtype  \n",
      "---  ------         --------------  -----  \n",
      " 0   NAME           9543 non-null   object \n",
      " 1   TYPE           6254 non-null   object \n",
      " 2   COST           5223 non-null   float64\n",
      " 3   STRENGTH       9543 non-null   object \n",
      " 4   WEAKNESS       9543 non-null   object \n",
      " 5   OPPORTUNITIES  9543 non-null   object \n",
      " 6   THREATS        9543 non-null   object \n",
      " 7   P_LOW          6297 non-null   float64\n",
      " 8   P_HIGH         6297 non-null   float64\n",
      " 9   YEARLY_LOW     6246 non-null   float64\n",
      " 10  YEARLY_HIGH    6246 non-null   float64\n",
      "dtypes: float64(5), object(6)\n",
      "memory usage: 894.7+ KB\n"
     ]
    }
   ],
   "source": [
    "df.info()"
   ]
  },
  {
   "cell_type": "code",
   "execution_count": 6,
   "id": "6fd7d30f",
   "metadata": {
    "execution": {
     "iopub.execute_input": "2024-02-14T11:18:03.036892Z",
     "iopub.status.busy": "2024-02-14T11:18:03.035880Z",
     "iopub.status.idle": "2024-02-14T11:18:03.046994Z",
     "shell.execute_reply": "2024-02-14T11:18:03.045919Z"
    },
    "papermill": {
     "duration": 0.024229,
     "end_time": "2024-02-14T11:18:03.049291",
     "exception": false,
     "start_time": "2024-02-14T11:18:03.025062",
     "status": "completed"
    },
    "tags": []
   },
   "outputs": [
    {
     "data": {
      "text/plain": [
       "TYPE\n",
       "Miscellaneous                      340\n",
       "Finance - Investment               315\n",
       "Textiles & Apparel                 295\n",
       "Trading                            261\n",
       "Finance - NBFC                     246\n",
       "                                  ... \n",
       "Fertilisers                          1\n",
       "Telecommunications - Service         1\n",
       "Cement - Major                       1\n",
       "Machine Tools                        1\n",
       "Others-Industrial Gases & Fuels      1\n",
       "Name: count, Length: 273, dtype: int64"
      ]
     },
     "execution_count": 6,
     "metadata": {},
     "output_type": "execute_result"
    }
   ],
   "source": [
    "df['TYPE'].value_counts()"
   ]
  },
  {
   "cell_type": "code",
   "execution_count": 7,
   "id": "e5cd3f35",
   "metadata": {
    "execution": {
     "iopub.execute_input": "2024-02-14T11:18:03.068536Z",
     "iopub.status.busy": "2024-02-14T11:18:03.067514Z",
     "iopub.status.idle": "2024-02-14T11:18:03.075844Z",
     "shell.execute_reply": "2024-02-14T11:18:03.074871Z"
    },
    "papermill": {
     "duration": 0.020254,
     "end_time": "2024-02-14T11:18:03.077977",
     "exception": false,
     "start_time": "2024-02-14T11:18:03.057723",
     "status": "completed"
    },
    "tags": []
   },
   "outputs": [],
   "source": [
    "df['TYPE']=df['TYPE'].fillna('Miscellaneous')"
   ]
  },
  {
   "cell_type": "code",
   "execution_count": 8,
   "id": "de796da4",
   "metadata": {
    "execution": {
     "iopub.execute_input": "2024-02-14T11:18:03.095475Z",
     "iopub.status.busy": "2024-02-14T11:18:03.095135Z",
     "iopub.status.idle": "2024-02-14T11:18:03.105086Z",
     "shell.execute_reply": "2024-02-14T11:18:03.104072Z"
    },
    "papermill": {
     "duration": 0.020649,
     "end_time": "2024-02-14T11:18:03.107046",
     "exception": false,
     "start_time": "2024-02-14T11:18:03.086397",
     "status": "completed"
    },
    "tags": []
   },
   "outputs": [
    {
     "data": {
      "text/plain": [
       "array([  0.95,   5.55,    nan, ..., 534.8 , 764.85, 159.85])"
      ]
     },
     "execution_count": 8,
     "metadata": {},
     "output_type": "execute_result"
    }
   ],
   "source": [
    "df['COST'].unique()"
   ]
  },
  {
   "cell_type": "code",
   "execution_count": 9,
   "id": "0a2910ed",
   "metadata": {
    "execution": {
     "iopub.execute_input": "2024-02-14T11:18:03.125154Z",
     "iopub.status.busy": "2024-02-14T11:18:03.124079Z",
     "iopub.status.idle": "2024-02-14T11:18:03.138620Z",
     "shell.execute_reply": "2024-02-14T11:18:03.137361Z"
    },
    "papermill": {
     "duration": 0.026413,
     "end_time": "2024-02-14T11:18:03.141102",
     "exception": false,
     "start_time": "2024-02-14T11:18:03.114689",
     "status": "completed"
    },
    "tags": []
   },
   "outputs": [
    {
     "data": {
      "text/plain": [
       "COST\n",
       "0.00      324\n",
       "10.00      37\n",
       "0.19       20\n",
       "3.61       10\n",
       "1.05        9\n",
       "         ... \n",
       "673.95      1\n",
       "5.69        1\n",
       "138.60      1\n",
       "896.50      1\n",
       "159.85      1\n",
       "Name: count, Length: 3481, dtype: int64"
      ]
     },
     "execution_count": 9,
     "metadata": {},
     "output_type": "execute_result"
    }
   ],
   "source": [
    "df['COST'].value_counts()"
   ]
  },
  {
   "cell_type": "code",
   "execution_count": 10,
   "id": "30e96b4f",
   "metadata": {
    "execution": {
     "iopub.execute_input": "2024-02-14T11:18:03.159779Z",
     "iopub.status.busy": "2024-02-14T11:18:03.158946Z",
     "iopub.status.idle": "2024-02-14T11:18:03.164828Z",
     "shell.execute_reply": "2024-02-14T11:18:03.163894Z"
    },
    "papermill": {
     "duration": 0.017783,
     "end_time": "2024-02-14T11:18:03.166992",
     "exception": false,
     "start_time": "2024-02-14T11:18:03.149209",
     "status": "completed"
    },
    "tags": []
   },
   "outputs": [],
   "source": [
    "df['COST']=df['COST'].fillna(131.721426)"
   ]
  },
  {
   "cell_type": "code",
   "execution_count": 11,
   "id": "1612b77c",
   "metadata": {
    "execution": {
     "iopub.execute_input": "2024-02-14T11:18:03.185659Z",
     "iopub.status.busy": "2024-02-14T11:18:03.184813Z",
     "iopub.status.idle": "2024-02-14T11:18:03.192898Z",
     "shell.execute_reply": "2024-02-14T11:18:03.191961Z"
    },
    "papermill": {
     "duration": 0.019729,
     "end_time": "2024-02-14T11:18:03.195014",
     "exception": false,
     "start_time": "2024-02-14T11:18:03.175285",
     "status": "completed"
    },
    "tags": []
   },
   "outputs": [
    {
     "data": {
      "text/plain": [
       "array([  0.87,   5.21,    nan, ...,   8.09, 159.85, 137.95])"
      ]
     },
     "execution_count": 11,
     "metadata": {},
     "output_type": "execute_result"
    }
   ],
   "source": [
    "df['P_LOW'].unique()"
   ]
  },
  {
   "cell_type": "code",
   "execution_count": 12,
   "id": "5afd5ff3",
   "metadata": {
    "execution": {
     "iopub.execute_input": "2024-02-14T11:18:03.213335Z",
     "iopub.status.busy": "2024-02-14T11:18:03.212640Z",
     "iopub.status.idle": "2024-02-14T11:18:03.219245Z",
     "shell.execute_reply": "2024-02-14T11:18:03.218154Z"
    },
    "papermill": {
     "duration": 0.01853,
     "end_time": "2024-02-14T11:18:03.221622",
     "exception": false,
     "start_time": "2024-02-14T11:18:03.203092",
     "status": "completed"
    },
    "tags": []
   },
   "outputs": [],
   "source": [
    "df['P_LOW']=df['P_LOW'].fillna(461.594043)"
   ]
  },
  {
   "cell_type": "code",
   "execution_count": 13,
   "id": "ad13c6dd",
   "metadata": {
    "execution": {
     "iopub.execute_input": "2024-02-14T11:18:03.240146Z",
     "iopub.status.busy": "2024-02-14T11:18:03.239269Z",
     "iopub.status.idle": "2024-02-14T11:18:03.245933Z",
     "shell.execute_reply": "2024-02-14T11:18:03.244907Z"
    },
    "papermill": {
     "duration": 0.01886,
     "end_time": "2024-02-14T11:18:03.248474",
     "exception": false,
     "start_time": "2024-02-14T11:18:03.229614",
     "status": "completed"
    },
    "tags": []
   },
   "outputs": [],
   "source": [
    "df['P_HIGH']=df['P_HIGH'].fillna(df['P_HIGH'].mean())"
   ]
  },
  {
   "cell_type": "code",
   "execution_count": 14,
   "id": "ba68060a",
   "metadata": {
    "execution": {
     "iopub.execute_input": "2024-02-14T11:18:03.267901Z",
     "iopub.status.busy": "2024-02-14T11:18:03.267034Z",
     "iopub.status.idle": "2024-02-14T11:18:03.272974Z",
     "shell.execute_reply": "2024-02-14T11:18:03.272135Z"
    },
    "papermill": {
     "duration": 0.0182,
     "end_time": "2024-02-14T11:18:03.275246",
     "exception": false,
     "start_time": "2024-02-14T11:18:03.257046",
     "status": "completed"
    },
    "tags": []
   },
   "outputs": [],
   "source": [
    "df['YEARLY_LOW']=df['YEARLY_LOW'].fillna(df['YEARLY_LOW'].mean())"
   ]
  },
  {
   "cell_type": "code",
   "execution_count": 15,
   "id": "65b6f1da",
   "metadata": {
    "execution": {
     "iopub.execute_input": "2024-02-14T11:18:03.293174Z",
     "iopub.status.busy": "2024-02-14T11:18:03.292456Z",
     "iopub.status.idle": "2024-02-14T11:18:03.298165Z",
     "shell.execute_reply": "2024-02-14T11:18:03.297351Z"
    },
    "papermill": {
     "duration": 0.017206,
     "end_time": "2024-02-14T11:18:03.300399",
     "exception": false,
     "start_time": "2024-02-14T11:18:03.283193",
     "status": "completed"
    },
    "tags": []
   },
   "outputs": [],
   "source": [
    "df['YEARLY_HIGH']=df['YEARLY_HIGH'].fillna(df['YEARLY_HIGH'].mean())"
   ]
  },
  {
   "cell_type": "code",
   "execution_count": 16,
   "id": "fc1e613c",
   "metadata": {
    "execution": {
     "iopub.execute_input": "2024-02-14T11:18:03.318321Z",
     "iopub.status.busy": "2024-02-14T11:18:03.317593Z",
     "iopub.status.idle": "2024-02-14T11:18:03.334373Z",
     "shell.execute_reply": "2024-02-14T11:18:03.333286Z"
    },
    "papermill": {
     "duration": 0.028887,
     "end_time": "2024-02-14T11:18:03.337087",
     "exception": false,
     "start_time": "2024-02-14T11:18:03.308200",
     "status": "completed"
    },
    "tags": []
   },
   "outputs": [
    {
     "name": "stdout",
     "output_type": "stream",
     "text": [
      "<class 'pandas.core.frame.DataFrame'>\n",
      "Index: 9543 entries, 0 to 9542\n",
      "Data columns (total 11 columns):\n",
      " #   Column         Non-Null Count  Dtype  \n",
      "---  ------         --------------  -----  \n",
      " 0   NAME           9543 non-null   object \n",
      " 1   TYPE           9543 non-null   object \n",
      " 2   COST           9543 non-null   float64\n",
      " 3   STRENGTH       9543 non-null   object \n",
      " 4   WEAKNESS       9543 non-null   object \n",
      " 5   OPPORTUNITIES  9543 non-null   object \n",
      " 6   THREATS        9543 non-null   object \n",
      " 7   P_LOW          9543 non-null   float64\n",
      " 8   P_HIGH         9543 non-null   float64\n",
      " 9   YEARLY_LOW     9543 non-null   float64\n",
      " 10  YEARLY_HIGH    9543 non-null   float64\n",
      "dtypes: float64(5), object(6)\n",
      "memory usage: 894.7+ KB\n"
     ]
    }
   ],
   "source": [
    "df.info()"
   ]
  },
  {
   "cell_type": "code",
   "execution_count": 17,
   "id": "13d473ed",
   "metadata": {
    "execution": {
     "iopub.execute_input": "2024-02-14T11:18:03.355070Z",
     "iopub.status.busy": "2024-02-14T11:18:03.354310Z",
     "iopub.status.idle": "2024-02-14T11:18:04.617482Z",
     "shell.execute_reply": "2024-02-14T11:18:04.616351Z"
    },
    "papermill": {
     "duration": 1.27514,
     "end_time": "2024-02-14T11:18:04.620270",
     "exception": false,
     "start_time": "2024-02-14T11:18:03.345130",
     "status": "completed"
    },
    "tags": []
   },
   "outputs": [],
   "source": [
    "from sklearn.preprocessing import LabelEncoder\n",
    "le=LabelEncoder()"
   ]
  },
  {
   "cell_type": "code",
   "execution_count": 18,
   "id": "334bb3d8",
   "metadata": {
    "execution": {
     "iopub.execute_input": "2024-02-14T11:18:04.637762Z",
     "iopub.status.busy": "2024-02-14T11:18:04.637363Z",
     "iopub.status.idle": "2024-02-14T11:18:04.659147Z",
     "shell.execute_reply": "2024-02-14T11:18:04.658083Z"
    },
    "papermill": {
     "duration": 0.033535,
     "end_time": "2024-02-14T11:18:04.661669",
     "exception": false,
     "start_time": "2024-02-14T11:18:04.628134",
     "status": "completed"
    },
    "tags": []
   },
   "outputs": [],
   "source": [
    "df['STRENGTH']=le.fit_transform(df['STRENGTH'])\n",
    "df['WEAKNESS']=le.fit_transform(df['WEAKNESS'])\n",
    "df['OPPORTUNITIES']=le.fit_transform(df['OPPORTUNITIES'])\n",
    "df['THREATS']=le.fit_transform(df['THREATS'])"
   ]
  },
  {
   "cell_type": "code",
   "execution_count": 19,
   "id": "cb6d5862",
   "metadata": {
    "execution": {
     "iopub.execute_input": "2024-02-14T11:18:04.679068Z",
     "iopub.status.busy": "2024-02-14T11:18:04.678684Z",
     "iopub.status.idle": "2024-02-14T11:18:04.688476Z",
     "shell.execute_reply": "2024-02-14T11:18:04.687225Z"
    },
    "papermill": {
     "duration": 0.021103,
     "end_time": "2024-02-14T11:18:04.690543",
     "exception": false,
     "start_time": "2024-02-14T11:18:04.669440",
     "status": "completed"
    },
    "tags": []
   },
   "outputs": [],
   "source": [
    "df['TYPE']=le.fit_transform(df['TYPE'])"
   ]
  },
  {
   "cell_type": "code",
   "execution_count": 20,
   "id": "f97d1aba",
   "metadata": {
    "execution": {
     "iopub.execute_input": "2024-02-14T11:18:04.708541Z",
     "iopub.status.busy": "2024-02-14T11:18:04.707351Z",
     "iopub.status.idle": "2024-02-14T11:18:04.716227Z",
     "shell.execute_reply": "2024-02-14T11:18:04.715266Z"
    },
    "papermill": {
     "duration": 0.020251,
     "end_time": "2024-02-14T11:18:04.718494",
     "exception": false,
     "start_time": "2024-02-14T11:18:04.698243",
     "status": "completed"
    },
    "tags": []
   },
   "outputs": [],
   "source": [
    "final_df=df.drop(['NAME'],axis=1)"
   ]
  },
  {
   "cell_type": "code",
   "execution_count": 21,
   "id": "178b6ba5",
   "metadata": {
    "execution": {
     "iopub.execute_input": "2024-02-14T11:18:04.735753Z",
     "iopub.status.busy": "2024-02-14T11:18:04.735377Z",
     "iopub.status.idle": "2024-02-14T11:18:04.748084Z",
     "shell.execute_reply": "2024-02-14T11:18:04.747023Z"
    },
    "papermill": {
     "duration": 0.024037,
     "end_time": "2024-02-14T11:18:04.750367",
     "exception": false,
     "start_time": "2024-02-14T11:18:04.726330",
     "status": "completed"
    },
    "tags": []
   },
   "outputs": [
    {
     "name": "stdout",
     "output_type": "stream",
     "text": [
      "<class 'pandas.core.frame.DataFrame'>\n",
      "Index: 9543 entries, 0 to 9542\n",
      "Data columns (total 10 columns):\n",
      " #   Column         Non-Null Count  Dtype  \n",
      "---  ------         --------------  -----  \n",
      " 0   TYPE           9543 non-null   int64  \n",
      " 1   COST           9543 non-null   float64\n",
      " 2   STRENGTH       9543 non-null   int64  \n",
      " 3   WEAKNESS       9543 non-null   int64  \n",
      " 4   OPPORTUNITIES  9543 non-null   int64  \n",
      " 5   THREATS        9543 non-null   int64  \n",
      " 6   P_LOW          9543 non-null   float64\n",
      " 7   P_HIGH         9543 non-null   float64\n",
      " 8   YEARLY_LOW     9543 non-null   float64\n",
      " 9   YEARLY_HIGH    9543 non-null   float64\n",
      "dtypes: float64(5), int64(5)\n",
      "memory usage: 820.1 KB\n"
     ]
    }
   ],
   "source": [
    "final_df.info()"
   ]
  },
  {
   "cell_type": "code",
   "execution_count": 22,
   "id": "cd3d12d0",
   "metadata": {
    "execution": {
     "iopub.execute_input": "2024-02-14T11:18:04.768142Z",
     "iopub.status.busy": "2024-02-14T11:18:04.767739Z",
     "iopub.status.idle": "2024-02-14T11:18:05.698531Z",
     "shell.execute_reply": "2024-02-14T11:18:05.697248Z"
    },
    "papermill": {
     "duration": 0.942697,
     "end_time": "2024-02-14T11:18:05.701092",
     "exception": false,
     "start_time": "2024-02-14T11:18:04.758395",
     "status": "completed"
    },
    "tags": []
   },
   "outputs": [],
   "source": [
    "from sklearn.linear_model import LinearRegression\n",
    "from sklearn.linear_model import LogisticRegression\n",
    "from sklearn.metrics import r2_score\n",
    "from sklearn.neighbors import KNeighborsRegressor\n",
    "from sklearn.tree import DecisionTreeRegressor\n",
    "from xgboost import XGBRegressor\n",
    "from catboost import CatBoostRegressor\n",
    "from sklearn.ensemble import (\n",
    "    AdaBoostRegressor,\n",
    "    GradientBoostingRegressor,\n",
    "    RandomForestRegressor,\n",
    ")"
   ]
  },
  {
   "cell_type": "code",
   "execution_count": 23,
   "id": "bd1cda18",
   "metadata": {
    "execution": {
     "iopub.execute_input": "2024-02-14T11:18:05.718893Z",
     "iopub.status.busy": "2024-02-14T11:18:05.718480Z",
     "iopub.status.idle": "2024-02-14T11:18:05.726607Z",
     "shell.execute_reply": "2024-02-14T11:18:05.725476Z"
    },
    "papermill": {
     "duration": 0.019549,
     "end_time": "2024-02-14T11:18:05.728679",
     "exception": false,
     "start_time": "2024-02-14T11:18:05.709130",
     "status": "completed"
    },
    "tags": []
   },
   "outputs": [],
   "source": [
    "models={\n",
    "                \"Random Forest\":RandomForestRegressor(n_estimators=50),\n",
    "                \"Decision Tree\":DecisionTreeRegressor(),\n",
    "                \"Gradient Boosting\":GradientBoostingRegressor(),\n",
    "                \"Linear Regression\":LinearRegression(),\n",
    "                \"K-Neighbours Regressor\":KNeighborsRegressor(),\n",
    "                \"XGBClassifier\":XGBRegressor(),\n",
    "                \"CatBoosting Regressor\":CatBoostRegressor(verbose=False),\n",
    "                \"AdaBoost Regressor\":AdaBoostRegressor(),\n",
    "            }"
   ]
  },
  {
   "cell_type": "code",
   "execution_count": 24,
   "id": "361e007f",
   "metadata": {
    "execution": {
     "iopub.execute_input": "2024-02-14T11:18:05.746298Z",
     "iopub.status.busy": "2024-02-14T11:18:05.745925Z",
     "iopub.status.idle": "2024-02-14T11:18:05.753030Z",
     "shell.execute_reply": "2024-02-14T11:18:05.751873Z"
    },
    "papermill": {
     "duration": 0.018488,
     "end_time": "2024-02-14T11:18:05.755111",
     "exception": false,
     "start_time": "2024-02-14T11:18:05.736623",
     "status": "completed"
    },
    "tags": []
   },
   "outputs": [],
   "source": [
    "x=final_df.drop(['COST'],axis=1)\n",
    "y=final_df['COST']"
   ]
  },
  {
   "cell_type": "code",
   "execution_count": 25,
   "id": "297f7761",
   "metadata": {
    "execution": {
     "iopub.execute_input": "2024-02-14T11:18:05.772693Z",
     "iopub.status.busy": "2024-02-14T11:18:05.772328Z",
     "iopub.status.idle": "2024-02-14T11:18:05.781172Z",
     "shell.execute_reply": "2024-02-14T11:18:05.780076Z"
    },
    "papermill": {
     "duration": 0.020492,
     "end_time": "2024-02-14T11:18:05.783498",
     "exception": false,
     "start_time": "2024-02-14T11:18:05.763006",
     "status": "completed"
    },
    "tags": []
   },
   "outputs": [],
   "source": [
    "from sklearn.model_selection import train_test_split\n",
    "x_train,x_test,y_train,y_test=train_test_split(x,y,train_size=0.8,random_state=42)"
   ]
  },
  {
   "cell_type": "code",
   "execution_count": 26,
   "id": "0c59ae9c",
   "metadata": {
    "execution": {
     "iopub.execute_input": "2024-02-14T11:18:05.801993Z",
     "iopub.status.busy": "2024-02-14T11:18:05.801352Z",
     "iopub.status.idle": "2024-02-14T11:18:11.567164Z",
     "shell.execute_reply": "2024-02-14T11:18:11.565671Z"
    },
    "papermill": {
     "duration": 5.777981,
     "end_time": "2024-02-14T11:18:11.569543",
     "exception": false,
     "start_time": "2024-02-14T11:18:05.791562",
     "status": "completed"
    },
    "tags": []
   },
   "outputs": [
    {
     "name": "stdout",
     "output_type": "stream",
     "text": [
      "Random Forest: R-squared = 0.9133659038347431\n",
      "Decision Tree: R-squared = 0.8345809972830552\n",
      "Gradient Boosting: R-squared = 0.9083460655884464\n",
      "Linear Regression: R-squared = 0.03551949074489469\n",
      "K-Neighbours Regressor: R-squared = 0.8824585868253052\n",
      "XGBClassifier: R-squared = 0.8644452147193252\n",
      "CatBoosting Regressor: R-squared = 0.8918232198792863\n",
      "AdaBoost Regressor: R-squared = 0.7675706485026088\n"
     ]
    }
   ],
   "source": [
    "results = {}\n",
    "\n",
    "for model_name, model in models.items():\n",
    "    model.fit(x_train, y_train)\n",
    "    y_pred = model.predict(x_test)\n",
    "    \n",
    "    # Calculate R-squared\n",
    "    r2 = r2_score(y_test, y_pred)\n",
    "    \n",
    "    # Store the results\n",
    "    results[model_name] = {\"model\": model, \"r2\": r2, \"predictions\": y_pred}\n",
    "\n",
    "# Print results\n",
    "for model_name, result in results.items():\n",
    "    print(f\"{model_name}: R-squared = {result['r2']}\")"
   ]
  },
  {
   "cell_type": "code",
   "execution_count": 27,
   "id": "a2c6f5f9",
   "metadata": {
    "execution": {
     "iopub.execute_input": "2024-02-14T11:18:11.587836Z",
     "iopub.status.busy": "2024-02-14T11:18:11.587428Z",
     "iopub.status.idle": "2024-02-14T11:18:11.856016Z",
     "shell.execute_reply": "2024-02-14T11:18:11.854871Z"
    },
    "papermill": {
     "duration": 0.28054,
     "end_time": "2024-02-14T11:18:11.858528",
     "exception": false,
     "start_time": "2024-02-14T11:18:11.577988",
     "status": "completed"
    },
    "tags": []
   },
   "outputs": [
    {
     "data": {
      "image/png": "[encoded data removed]",
      "text/plain": [
       "<Figure size 800x600 with 1 Axes>"
      ]
     },
     "metadata": {},
     "output_type": "display_data"
    }
   ],
   "source": [
    "import matplotlib.pyplot as plt\n",
    "plt.figure(figsize=(8, 6))\n",
    "plt.scatter(y_test, y_pred, color='blue', alpha=0.5)\n",
    "plt.plot([y_test.min(), y_test.max()], [y_test.min(), y_test.max()], 'k--', lw=2)\n",
    "plt.xlabel('True Values')\n",
    "plt.ylabel('Predicted Values')\n",
    "plt.title('True vs. Predicted Values')\n",
    "plt.show()"
   ]
  },
  {
   "cell_type": "code",
   "execution_count": 28,
   "id": "dcc7ac9a",
   "metadata": {
    "execution": {
     "iopub.execute_input": "2024-02-14T11:18:11.878262Z",
     "iopub.status.busy": "2024-02-14T11:18:11.877623Z",
     "iopub.status.idle": "2024-02-14T11:18:12.108248Z",
     "shell.execute_reply": "2024-02-14T11:18:12.107186Z"
    },
    "papermill": {
     "duration": 0.243316,
     "end_time": "2024-02-14T11:18:12.110666",
     "exception": false,
     "start_time": "2024-02-14T11:18:11.867350",
     "status": "completed"
    },
    "tags": []
   },
   "outputs": [
    {
     "data": {
      "image/png": "[encoded data removed]",
      "text/plain": [
       "<Figure size 800x600 with 1 Axes>"
      ]
     },
     "metadata": {},
     "output_type": "display_data"
    }
   ],
   "source": [
    "residuals = y_test - y_pred\n",
    "\n",
    "plt.figure(figsize=(8, 6))\n",
    "plt.scatter(y_pred, residuals, color='red', alpha=0.5)\n",
    "plt.xlabel('Predicted Values')\n",
    "plt.ylabel('Residuals')\n",
    "plt.title('Residual Plot')\n",
    "plt.axhline(y=0, color='k', linestyle='--', lw=2)  # Horizontal line at y=0\n",
    "plt.show()"
   ]
  },
  {
   "cell_type": "markdown",
   "id": "b18928c7",
   "metadata": {
    "papermill": {
     "duration": 0.009239,
     "end_time": "2024-02-14T11:18:12.129319",
     "exception": false,
     "start_time": "2024-02-14T11:18:12.120080",
     "status": "completed"
    },
    "tags": []
   },
   "source": [
    "##THUS I CAN SAY THAT MY MODEL IS NOT PERFECTLY FIT AND IT NEEDS IMPROVEMENT ."
   ]
  }
 ],
 "metadata": {
  "kaggle": {
   "accelerator": "none",
   "dataSources": [
    {
     "datasetId": 4330432,
     "sourceId": 7440234,
     "sourceType": "datasetVersion"
    }
   ],
   "dockerImageVersionId": 30646,
   "isGpuEnabled": false,
   "isInternetEnabled": true,
   "language": "python",
   "sourceType": "notebook"
  },
  "kernelspec": {
   "display_name": "Python 3",
   "language": "python",
   "name": "python3"
  },
  "language_info": {
   "codemirror_mode": {
    "name": "ipython",
    "version": 3
   },
   "file_extension": ".py",
   "mimetype": "text/x-python",
   "name": "python",
   "nbconvert_exporter": "python",
   "pygments_lexer": "ipython3",
   "version": "3.10.13"
  },
  "papermill": {
   "default_parameters": {},
   "duration": 13.997428,
   "end_time": "2024-02-14T11:18:12.758140",
   "environment_variables": {},
   "exception": null,
   "input_path": "__notebook__.ipynb",
   "output_path": "__notebook__.ipynb",
   "parameters": {},
   "start_time": "2024-02-14T11:17:58.760712",
   "version": "2.5.0"
  }
 },
 "nbformat": 4,
 "nbformat_minor": 5
}
